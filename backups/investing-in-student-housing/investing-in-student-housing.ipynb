{
 "cells": [
  {
   "cell_type": "markdown",
   "metadata": {},
   "source": [
    "---\n",
    "title: Investing in student housing with ML\n",
    "date: 2022-08-29\n",
    "categories: [Machine Learning, Streamlit, Deployment]\n",
    "description: Supervised learning and deployment project developed for NYC Data Science Academy.\n",
    "image: ames_img_500.png\n",
    "image-alt: Investing in student housing with ML\n",
    "---"
   ]
  },
  {
   "cell_type": "markdown",
   "metadata": {},
   "source": [
    "![Source: Image by the author](ames_img_1000.png)"
   ]
  },
  {
   "cell_type": "markdown",
   "metadata": {},
   "source": [
    "- [GitHub link](https://github.com/dapopov-st/housing-price-predictions)"
   ]
  }
 ],
 "metadata": {
  "kernelspec": {
   "display_name": "dl",
   "language": "python",
   "name": "python3"
  },
  "language_info": {
   "name": "python",
   "version": "3.12.2"
  }
 },
 "nbformat": 4,
 "nbformat_minor": 2
}
