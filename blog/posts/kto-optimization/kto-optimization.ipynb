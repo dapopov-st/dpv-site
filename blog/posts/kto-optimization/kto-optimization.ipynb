{
 "cells": [
  {
   "cell_type": "markdown",
   "metadata": {},
   "source": [
    "---\n",
    "Title: KTO Optimization\n",
    "date: 2024-04-15\n",
    "description: KTO Optimization\n",
    "categories: [LLMs]\n",
    "---"
   ]
  }
 ],
 "metadata": {
  "language_info": {
   "name": "python"
  }
 },
 "nbformat": 4,
 "nbformat_minor": 2
}
