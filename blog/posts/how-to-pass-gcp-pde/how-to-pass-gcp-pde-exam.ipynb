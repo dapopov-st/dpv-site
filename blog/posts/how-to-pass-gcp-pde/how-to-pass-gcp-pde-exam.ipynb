{
 "cells": [
  {
   "cell_type": "markdown",
   "metadata": {},
   "source": [
    "---\n",
    "Title: How to pass GCP PDE exam on the first attempt\n",
    "date: 2024-08-31\n",
    "description: How to pass GCP PDE exam on the first attempt\n",
    "categories: [GCP]\n",
    "---"
   ]
  },
  {
   "cell_type": "markdown",
   "metadata": {},
   "source": [
    "# How to pass GCP PDE exam on the first attempt: Write-up in progress"
   ]
  }
 ],
 "metadata": {
  "kernelspec": {
   "display_name": "mintonano",
   "language": "python",
   "name": "python3"
  },
  "language_info": {
   "name": "python",
   "version": "3.11.9"
  }
 },
 "nbformat": 4,
 "nbformat_minor": 2
}
