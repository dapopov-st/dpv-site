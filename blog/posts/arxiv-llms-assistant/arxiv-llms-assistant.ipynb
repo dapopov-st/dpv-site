{
 "cells": [
  {
   "cell_type": "markdown",
   "metadata": {},
   "source": [
    "---\n",
    "Title: arXiv LLMs Assistant\n",
    "date: 2024-05-31\n",
    "description: arXiv LLMs Assistant\n",
    "categories: [LLMs]\n",
    "---"
   ]
  },
  {
   "cell_type": "markdown",
   "metadata": {},
   "source": [
    "# arXiv LLMs Assistant: Write-up in progress"
   ]
  }
 ],
 "metadata": {
  "kernelspec": {
   "display_name": "mintonano",
   "language": "python",
   "name": "python3"
  },
  "language_info": {
   "name": "python",
   "version": "3.11.9"
  }
 },
 "nbformat": 4,
 "nbformat_minor": 2
}
