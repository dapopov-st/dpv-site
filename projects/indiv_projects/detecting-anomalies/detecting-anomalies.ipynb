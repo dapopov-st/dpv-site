{
 "cells": [
  {
   "cell_type": "markdown",
   "metadata": {},
   "source": [
    "---\n",
    "title: Detecting anomalies in a statewide housing market with alternative data\n",
    "date: 2024-05-31\n",
    "description: Unsupervised learning (TDA) project to detect housing market anomalies built with Zach Stone for Haystacks.ai.\n",
    "categories: [Machine Learning, Unsupervised Learning, GCP]\n",
    "image: anomalies_img500.png\n",
    "image-alt: \"Detecting anomalies in a statewide housing market with alternative data\"\n",
    "---"
   ]
  },
  {
   "cell_type": "markdown",
   "metadata": {},
   "source": [
    "![Source: Image by the authors](anomalies_img_1000.png)"
   ]
  },
  {
   "cell_type": "markdown",
   "metadata": {},
   "source": [
    "- NYC DSA project with Zach Stone. Detected housing market anomalies with returns of over $100K/property in Georgia for Haystacks.ai by building a robust web scraping solution using Python/GCP and co-developing novel agglomerative clustering techniques (topological data analysis).\n",
    "\n",
    "- [GitHub link](https://github.com/zstone00000/haystacks.ai-anomaly-detection)"
   ]
  }
 ],
 "metadata": {
  "kernelspec": {
   "display_name": "mintonano",
   "language": "python",
   "name": "python3"
  },
  "language_info": {
   "codemirror_mode": {
    "name": "ipython",
    "version": 3
   },
   "file_extension": ".py",
   "mimetype": "text/x-python",
   "name": "python",
   "nbconvert_exporter": "python",
   "pygments_lexer": "ipython3",
   "version": "3.12.2"
  }
 },
 "nbformat": 4,
 "nbformat_minor": 2
}
