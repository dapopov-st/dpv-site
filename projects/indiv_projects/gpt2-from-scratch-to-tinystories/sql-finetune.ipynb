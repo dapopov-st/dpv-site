{
 "cells": [
  {
   "cell_type": "markdown",
   "metadata": {},
   "source": [
    "---\n",
    "title: GPT-2 From Scratch to Tiny Stories\n",
    "date: 2024-09-10\n",
    "description: Building the GPT-2 transformer from scratch\n",
    "categories: [LLMs, PyTorch]\n",
    "image: transformer_orig500.png\n",
    "image-alt: \"GPT-2 from scratch\"\n",
    "---"
   ]
  },
  {
   "cell_type": "markdown",
   "metadata": {},
   "source": [
    "![Source: Attention is all you need by Vaswani et al.](transformer_orig500.png)"
   ]
  },
  {
   "cell_type": "markdown",
   "metadata": {},
   "source": [
    "The goal of this project is to build a GPT-2 transformer from scratch in PyTorch, making speed and memory optimizations, training a custom tokenizer (and discussing it's mechanics), further tuning the model parameters to work best for TinyStories training on two 3090s, and finally generating stories from the trained model.\n",
    "\n",
    "- Part 1: Build GPT2.ipynb builds the foundational GPT-2 architecture, mostly following Andrej Karpathy.\n",
    "- Part 2: Optimize GPT-2.ipynb optimizes GPT-2 training process, again following Andrej Karpathy, with adjustments made for dual-3090 setup.\n",
    "- Part 3: Train GPT-2.ipynb trains a custom Hugging Face tokenizer and performs custom training on Tiny Stories dataset roneneldan/TinyStories. Once trained from scratch, GPT-2 is able to generate coherent stories for children.\n",
    "- Part 4: Tokenization mechanics overview.ipynb describes tokenization mechanics and challenges.\n",
    "\n",
    "- Each part is described in a corresponding blog post [here](https://dpopovvelasco.dev/posts.html).\n",
    "- [GitHub link](https://github.com/dapopov-st/gpt2-from-scratch-to-tiny-stories/)"
   ]
  }
 ],
 "metadata": {
  "kernelspec": {
   "display_name": "dl",
   "language": "python",
   "name": "python3"
  },
  "language_info": {
   "codemirror_mode": {
    "name": "ipython",
    "version": 3
   },
   "file_extension": ".py",
   "mimetype": "text/x-python",
   "name": "python",
   "nbconvert_exporter": "python",
   "pygments_lexer": "ipython3",
   "version": "3.12.2"
  }
 },
 "nbformat": 4,
 "nbformat_minor": 2
}
