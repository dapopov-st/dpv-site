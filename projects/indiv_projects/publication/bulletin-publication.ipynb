{
 "cells": [
  {
   "cell_type": "markdown",
   "metadata": {},
   "source": [
    "---\n",
    "title: COMPARATIVE STATICS OF A MONOPOLISTIC FIRM FACING RATE-OF-RETURN AND COMMAND-AND-CONTROL POLLUTION CONSTRAINTS\n",
    "date: 2014-03-05\n",
    "description: A paper I co-authored in mathematical economics/economic theory.\n",
    "categories: [Math, Economics]\n",
    "image: econ_paper500.png\n",
    "image-alt: \"bulletin-paper\"\n",
    "---"
   ]
  },
  {
   "cell_type": "markdown",
   "metadata": {},
   "source": [
    "![Source: COMPARATIVE STATICS OF A MONOPOLISTIC FIRM FACING RATE-OF-RETURN AND COMMAND-AND-CONTROL POLLUTION CONSTRAINTS](econ_paper1000.png)"
   ]
  },
  {
   "cell_type": "markdown",
   "metadata": {},
   "source": [
    "![](arxiv-llms1000.png)"
   ]
  },
  {
   "cell_type": "markdown",
   "metadata": {},
   "source": [
    "- The intrinsic comparative statics properties of a general rate-of-return regulated, profit-maximizing model of a monopolist facing a command-and-control pollution constraint are derived. Recent advances in the theory of comparative statics are used to derive the basic comparative statics of the model, which are contained in an observable negative semi-definite matrix and possess the form of Slutsky-like expressions. We consider several command-and-control pollution constraints that are commonly implemented in practice, and conclude that the intrinsic comparative statics properties of the model are qualitatively invariant to the type of command-and-control pollution constraint imposed. We compare our results with those extant, and find that several basic results from the standard A–J model no longer hold in our model.\n",
    "\n",
    "- [Publication link](https://onlinelibrary.wiley.com/doi/10.1111/boer.12003)"
   ]
  },
  {
   "cell_type": "code",
   "execution_count": null,
   "metadata": {},
   "outputs": [],
   "source": []
  }
 ],
 "metadata": {
  "kernelspec": {
   "display_name": "mintonano",
   "language": "python",
   "name": "python3"
  },
  "language_info": {
   "codemirror_mode": {
    "name": "ipython",
    "version": 3
   },
   "file_extension": ".py",
   "mimetype": "text/x-python",
   "name": "python",
   "nbconvert_exporter": "python",
   "pygments_lexer": "ipython3",
   "version": "3.12.2"
  }
 },
 "nbformat": 4,
 "nbformat_minor": 2
}
