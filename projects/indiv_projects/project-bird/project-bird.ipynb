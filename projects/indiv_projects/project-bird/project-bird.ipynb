{
 "cells": [
  {
   "cell_type": "markdown",
   "metadata": {},
   "source": [
    "---\n",
    "title: Project Bird\n",
    "date: 2024-04-30\n",
    "description: GCP ETL project to pull data from eBird API 2.0 and display a map of recent bird observations in a given area - a small side project to practice GCP skills and see more birds.\n",
    "categories: [GCP]\n",
    "image: project_bird500.png\n",
    "image-alt: \"Project Bird\"\n",
    "---"
   ]
  },
  {
   "cell_type": "markdown",
   "metadata": {},
   "source": [
    "![Source: Image by the author](project_bird1000.png)"
   ]
  },
  {
   "cell_type": "markdown",
   "metadata": {},
   "source": [
    "![](arxiv-llms1000.png)"
   ]
  },
  {
   "cell_type": "markdown",
   "metadata": {},
   "source": [
    "\n",
    "- GCP ETL project to pull data from eBird API 2.0 and display a map of recent bird observations in a given area: a small side project to practice GCP skills and see more birds.\n",
    "\n",
    "    - Schedule an Airflow job to obtain data from eBird API 2.0 and store in Cloud Storage.\n",
    "\n",
    "    - Clean the data via an Apache Beam Dataflow job and push the results to BigQuery.\n",
    "\n",
    "    - Use a Cloud function to trigger the Dataflow job in Step 2 on file upload to Cloud Storage bucket.\n",
    "\n",
    "    - Build geographic visualization with BigQuery Geo Viz.\n",
    "\n",
    "\n",
    "- [GitHub link](https://github.com/dapopov-st/project-bird)"
   ]
  }
 ],
 "metadata": {
  "kernelspec": {
   "display_name": "mintonano",
   "language": "python",
   "name": "python3"
  },
  "language_info": {
   "codemirror_mode": {
    "name": "ipython",
    "version": 3
   },
   "file_extension": ".py",
   "mimetype": "text/x-python",
   "name": "python",
   "nbconvert_exporter": "python",
   "pygments_lexer": "ipython3",
   "version": "3.12.2"
  }
 },
 "nbformat": 4,
 "nbformat_minor": 2
}
