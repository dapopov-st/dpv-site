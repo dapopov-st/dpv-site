{
 "cells": [
  {
   "cell_type": "markdown",
   "metadata": {},
   "source": [
    "---\n",
    "title: FastAPI notes\n",
    "description: Notes on FastAPI\n",
    "date: 2024-09\n",
    "categories: [Programming]\n",
    "---"
   ]
  },
  {
   "cell_type": "markdown",
   "metadata": {},
   "source": [
    "## Basics"
   ]
  },
  {
   "cell_type": "markdown",
   "metadata": {},
   "source": [
    "- Build APIs based on standard Python type hints\n",
    "- Automatically generate interactive documentation\n",
    "- Fast to code, fewer bugs"
   ]
  },
  {
   "cell_type": "code",
   "execution_count": 3,
   "metadata": {},
   "outputs": [],
   "source": [
    "#! pip install fastapi\n",
    "#! pip install \"uvicorn[standard]\""
   ]
  },
  {
   "cell_type": "markdown",
   "metadata": {},
   "source": [
    "- If the following contents are in main.py, can run via `uvicorn main:app --reload`.  \n",
    "    - `main` refers to main.py and app refers to the object inside main.py.\n",
    "    - `--reload` reloads the page upon changes, to be used during dev, not prod.\n",
    "- Can see documentation conforming to OpenAPI standard in `http://127.0.0.1:8000/docs`, from which you can use the endpoints!\n",
    "- `http://127.0.0.1:8000/redoc` returns documentation in alternative format.\n",
    "- Use `async def` to make the functions non-blocking, enabling other tasks to run concurrently. Useful when function performs I/O-bound operations, such as database queries, file I/O, or network requests, and when need to handle a large number of concurrent requests efficiently.\n",
    "- Type hints will be validated with Pydantic, so if use a non-int in `/items/{item_id}`, will get an error.\n",
    "- Order matters: If `read_user_current` is placed *after* `read_user`, will get an error since FastAPI will read functions top-down and try to validate input to be an integer.\n",
    "- Use `Enums` if path parameter must come from a certain list of values.  If improper parameter is passed, FastAPI will list available values!\n",
    "- To have paths be read correctly, use `:path` path converter, allowing the parameter to capture the entire path, including slashes.\n",
    "- `read_animal` without additional parameters will read off animals 0-10.  With additional parameters, can specify which ones we want via *query parameters*, as in http://127.0.0.1:8000/animals/?skip=0&limit=2.  Here, ? denotes start of query parameters and & separates them.  Can also pass optional parameter as http://127.0.0.1:8000/animals/?skip=0&limit=2&optional_param=3, just make sure to specify it as typing.Optional.\n",
    "- Can pass and use optional parameters as in `read_user_item`.\n",
    "- Request body is data sent by client to the API and response body is data sent from API to client.  Use Pydantic to specify request body with POST request type.\n",
    "    - To send a post request, could test it out in /docs or with curl -X POST \"http://127.0.0.1:8000/books/\" -H \"Content-Type: application/json\" -d '{\n",
    "    \"name\": \"The Great Gatsby\",\n",
    "    \"author\": \"F. Scott Fitzgerald\",\n",
    "    \"description\": \"A novel set in the 1920s\",\n",
    "    \"price\": 10.99\n",
    "}'\n",
    "    - Then can go to /books endpoint to see the books printed.\n"
   ]
  },
  {
   "cell_type": "code",
   "execution_count": 6,
   "metadata": {},
   "outputs": [],
   "source": [
    "from fastapi import FastAPI\n",
    "from enum import Enum\n",
    "import typing as t\n",
    "from pydantic import BaseModel\n",
    "\n",
    "app = FastAPI()\n",
    "\n",
    "@app.get(\"/\") #route/endpoint\n",
    "def home_page():\n",
    "    return {\"message\":\"Hello World!\"}\n",
    "\n",
    "@app.get(\"/items/{item_id}\") #item_id is the path parameter\n",
    "async def read_item(item_id: int):\n",
    "    return {\"item_id\":item_id}\n",
    "\n",
    "@app.get(\"/users/me\") # will not work if placed after, must be before to be valid\n",
    "async def read_user_current():\n",
    "    return {\"user_id\":\"Current user\"}\n",
    "\n",
    "@app.get(\"/users/{user_id}\") \n",
    "async def read_user(user_id: int):\n",
    "    return {\"user_id\":user_id}\n",
    "\n",
    "class ModelName(str,Enum):\n",
    "    ALEXNET = 'ALEXNET'\n",
    "    RESNET = 'RESNET'\n",
    "    LENET = 'LENET'\n",
    "\n",
    "@app.get(\"/models/{model_name}\")\n",
    "async def get_model(model_name: ModelName):\n",
    "    if model_name == ModelName.ALEXNET:\n",
    "        return {'model_name':model_name}\n",
    "    elif model_name.value == \"LENET\":\n",
    "        return {'model_name': model_name}\n",
    "    else:\n",
    "        return {'model_name':f\"You have selected {model_name.value}\"}\n",
    "    \n",
    "@app.get(\"files/{file_path:path}\")\n",
    "async def read_file(file_path:str):\n",
    "    return {\"file_path\":file_path}\n",
    "\n",
    "animal_db = [{\"animal_name\":'cat'},{\"animal_name\":'llama'},{\"animal_name\":'alpaca'}]\n",
    "\n",
    "@app.get(\"/animals/\")\n",
    "async def read_animal(skip: int=0, limit: int=10, optional_param: t.Optional[int]=None):\n",
    "    return {\"animals\": animal_db[skip:skip+limit], \"optional_parameter\":optional_param}\n",
    "\n",
    "@app.get(\"/users/{user_id}/items/{item_id}\")\n",
    "async def read_user_item(\n",
    "    user_id: int, item_id: int, q: t.Optional[str]=None, short:bool=False\n",
    "):\n",
    "    item = {\"item_id\":item_id, \"owner_id\":user_id}\n",
    "    if q:\n",
    "        item.update({\"q\":q})\n",
    "    if not short:\n",
    "        item.update({'description':'great item with long description'})\n",
    "    return item\n",
    "\n",
    "books_db = []\n",
    "class Book(BaseModel):\n",
    "    name:str\n",
    "    author:str\n",
    "    description:t.Optional[str]\n",
    "    price:float\n",
    "\n",
    "@app.post(\"/books/\")\n",
    "async def create_item(book:Book):\n",
    "    books_db.append(book)\n",
    "    return book \n",
    "@app.get(\"/books/\")\n",
    "async def get_books():\n",
    "    return books_db"
   ]
  },
  {
   "cell_type": "markdown",
   "metadata": {},
   "source": [
    "### Notes following \"Building Data Science Applications with FastAPI\" by François Voron Chapter 2: Python specificities -> asyncio"
   ]
  },
  {
   "cell_type": "markdown",
   "metadata": {},
   "source": [
    "Q: What's the difference between WSGI and ASGI gateways as it pertains to Django and FastAPI?\n",
    "WSGI (Web Server Gateway Interface) and ASGI (Asynchronous Server Gateway Interface) are two different specifications for Python web servers and applications. They serve as interfaces between web servers and web applications or frameworks. Here’s a detailed comparison of WSGI and ASGI, particularly in the context of Django and FastAPI:\n",
    "\n",
    "- WSGI (Web Server Gateway Interface)\n",
    "Synchronous:\n",
    "\n",
    "WSGI is designed for synchronous web applications. It handles one request at a time per worker, which can lead to inefficiencies when dealing with I/O-bound operations like database queries or external API calls.\n",
    "Django:\n",
    "\n",
    "Django is traditionally a WSGI-based framework. It works well for most web applications but can struggle with real-time features like WebSockets or long-polling due to its synchronous nature.\n",
    "Common WSGI servers for Django include Gunicorn and uWSGI.\n",
    "Concurrency:\n",
    "\n",
    "WSGI applications handle concurrency by using multiple worker processes or threads. Each worker handles one request at a time.\n",
    "Deployment:\n",
    "\n",
    "WSGI applications are typically deployed using WSGI servers like Gunicorn, uWSGI, or mod_wsgi (for Apache).\n",
    "- ASGI (Asynchronous Server Gateway Interface)\n",
    "Asynchronous:\n",
    "\n",
    "ASGI is designed for asynchronous web applications. It supports both synchronous and asynchronous code, allowing for more efficient handling of I/O-bound operations and real-time features.\n",
    "FastAPI:\n",
    "\n",
    "FastAPI is an ASGI-based framework. It is built from the ground up to support asynchronous programming, making it ideal for applications that require high concurrency, real-time communication, or WebSockets.\n",
    "Common ASGI servers for FastAPI include Uvicorn and Daphne.\n",
    "Concurrency:\n",
    "\n",
    "ASGI applications can handle many requests concurrently using asynchronous I/O. This allows for more efficient use of resources, especially for I/O-bound tasks.\n",
    "Deployment:\n",
    "\n",
    "ASGI applications are typically deployed using ASGI servers like Uvicorn, Daphne, or Hypercorn."
   ]
  },
  {
   "cell_type": "code",
   "execution_count": 3,
   "metadata": {},
   "outputs": [
    {
     "name": "stdout",
     "output_type": "stream",
     "text": [
      "Requirement already satisfied: nest_asyncio in /home/mainuser/anaconda3/envs/mintonano/lib/python3.11/site-packages (1.6.0)\n"
     ]
    }
   ],
   "source": [
    "#!pip install nest_asyncio # run asyncio within Jupyter's already running even loop"
   ]
  },
  {
   "cell_type": "code",
   "execution_count": 5,
   "metadata": {},
   "outputs": [
    {
     "name": "stdout",
     "output_type": "stream",
     "text": [
      "A\n",
      "B\n",
      "A\n",
      "B\n",
      "A\n",
      "B\n"
     ]
    }
   ],
   "source": [
    "# import asyncio\n",
    "# async def printer(name: str, times: int)->None:\n",
    "#     for i in range(times):\n",
    "#         print(name)\n",
    "#         await asyncio.sleep(1)\n",
    "# async def main():\n",
    "#     await asyncio.gather(\n",
    "#         printer(\"A\",3),\n",
    "#         printer(\"B\",3)\n",
    "#     )\n",
    "# asyncio.run(main())\n",
    "\n",
    "# adopting code since Jupyter has it's own event loop\n",
    "import asyncio\n",
    "import nest_asyncio\n",
    "\n",
    "# Apply nest_asyncio to allow nested event loops\n",
    "nest_asyncio.apply()\n",
    "\n",
    "async def printer(name: str, times: int) -> None:\n",
    "    for i in range(times):\n",
    "        print(name)\n",
    "        await asyncio.sleep(1)\n",
    "\n",
    "async def main():\n",
    "    await asyncio.gather(\n",
    "        printer(\"A\", 3),\n",
    "        printer(\"B\", 3)\n",
    "    )\n",
    "\n",
    "# Await the main coroutine directly\n",
    "await main()"
   ]
  },
  {
   "cell_type": "markdown",
   "metadata": {},
   "source": [
    "- asyncio.sleep(1) was added since *writing code in a coroutine doesn't necessarily mean it will not block*.  Computations are blocking!  I/O opps will not block or we could use multiprocessing."
   ]
  },
  {
   "cell_type": "markdown",
   "metadata": {},
   "source": [
    "- Path parameters and their validation"
   ]
  },
  {
   "cell_type": "code",
   "execution_count": 6,
   "metadata": {},
   "outputs": [
    {
     "name": "stderr",
     "output_type": "stream",
     "text": [
      "/tmp/ipykernel_6460/3090869963.py:5: DeprecationWarning: `regex` has been deprecated, please use `pattern` instead\n",
      "  async def get_license_plate(id: int = Path(...,regex=r\"^\\w{2}-\\d{3}-\\w{2}\")):\n"
     ]
    }
   ],
   "source": [
    "from fastapi import FastAPI, Path\n",
    "app = FastAPI()\n",
    "\n",
    "@app.get('/license-plates/{license}')\n",
    "async def get_license_plate(id: int = Path(...,regex=r\"^\\w{2}-\\d{3}-\\w{2}\")):\n",
    "    return {\"license\":license}"
   ]
  },
  {
   "cell_type": "markdown",
   "metadata": {},
   "source": [
    "- In FastAPI, ... above indicate that we don't want a default value.  RegEx validates French license plates like AB-123-CD."
   ]
  },
  {
   "cell_type": "markdown",
   "metadata": {},
   "source": [
    "## Notes by Key Topic"
   ]
  },
  {
   "cell_type": "markdown",
   "metadata": {},
   "source": [
    "### Installation, virtual environment (conda), running, first app"
   ]
  },
  {
   "cell_type": "code",
   "execution_count": null,
   "metadata": {},
   "outputs": [],
   "source": [
    "%% bash\n",
    "conda create --name fastapi-env python=3.11\n",
    "conda activate fastapi-env \n",
    "pip install fastapi[all]"
   ]
  },
  {
   "cell_type": "markdown",
   "metadata": {},
   "source": [
    "- If FastAPI app is called app in main file, run as follows: \n",
    "`uvicorn main:app --reload`\n",
    "- Access interactive documentation using `http://127.0.0.1:8000/docs` (using Swagger UI) or `http://127.0.0.1:8000/redoc` (using ReDoc)"
   ]
  },
  {
   "cell_type": "markdown",
   "metadata": {},
   "source": [
    "### Defining routes with path and query parameters (for user input) and validating requests."
   ]
  },
  {
   "cell_type": "markdown",
   "metadata": {},
   "source": [
    "- Defining path parameters: user_id is a path parameter FastAPI will convert to an integer."
   ]
  },
  {
   "cell_type": "code",
   "execution_count": null,
   "metadata": {},
   "outputs": [],
   "source": [
    "from fastapi import FastAPI\n",
    "app = FastAPI() \n",
    "\n",
    "@app.get(\"/users/{user_id}\")\n",
    "def read_user(user_id:int):\n",
    "    return {\"user_id\":user_id}\n"
   ]
  },
  {
   "cell_type": "markdown",
   "metadata": {},
   "source": [
    "- Defining query parameters via function parameters with default values:"
   ]
  },
  {
   "cell_type": "code",
   "execution_count": null,
   "metadata": {},
   "outputs": [],
   "source": [
    "@app.get(\"/users/\")\n",
    "def read_user(skip:int=0,limit:int=10):\n",
    "    return {\"skip\":skip, \"limit\":limit}"
   ]
  },
  {
   "cell_type": "markdown",
   "metadata": {},
   "source": [
    "If a user accesses /users/?skip=5&limit=15, FastAPI will return `{\"skip\":5, \"limit\":15}`"
   ]
  },
  {
   "cell_type": "markdown",
   "metadata": {},
   "source": [
    "- Request validation with Pydantic below.  Make the request as follows:\n",
    "- `curl -X POST \"http://127.0.0.1:8000/users/\" -H \"Content-Type: application/json\" -d '{\"id\":1, \"name\":\"John Smith\", \"email\":\"john@example.com\"}'\n",
    "    - `-X POST`: use HTTP method to post data\n",
    "    - `-H \"Content-Type: application/json\"`: add HTTP header to the request and specify that the data being sent is in JSON format\n",
    "    - -d '{\"id\":1, \"name\":\"John Smith\", \"email\":\"john@example.com\"}': send the specified data in the request body\n"
   ]
  },
  {
   "cell_type": "code",
   "execution_count": null,
   "metadata": {},
   "outputs": [],
   "source": [
    "from pydantic import BaseModel\n",
    "class User(BaseModel):\n",
    "    id: int\n",
    "    name: str\n",
    "    email: str\n",
    "\n",
    "@app.post(\"/users/\")\n",
    "def create_user(user:User):\n",
    "    return {\"id\": user.id, \"name\": user.name, \"email\":user.email}"
   ]
  },
  {
   "cell_type": "markdown",
   "metadata": {},
   "source": [
    "- Combining path ahd query parameters with Pydantic: user_id is a path parameter and details is a query parameter that modifies the response.\n",
    "- Read simply as `curl \"http://127.0.0.1:8000/users/1\"`"
   ]
  },
  {
   "cell_type": "code",
   "execution_count": null,
   "metadata": {},
   "outputs": [],
   "source": [
    "@app.get(\"/users/{user_id}\")\n",
    "def read_user(user_id: int, details: bool=False):\n",
    "    if details:\n",
    "        return {\"user_id\":user_id, \"details\":\"Detailed info\"}\n",
    "    return {\"user_id\":user_id}"
   ]
  },
  {
   "cell_type": "markdown",
   "metadata": {},
   "source": [
    "### Request and response models\n",
    "- Request models define the structure of the data that your API expects to receive in the request body. They are used to validate and parse the incoming data.\n",
    "- Response models define the structure of the data that your API returns in response.  They ensure that the response data is correctly formatted and validated.\n",
    "- `curl -X POST \"http://127.0.0.1:8000/users/\" -H \"Content-Type: application/json\" -d '{\"id\":1, \"name\":\"John Smith\", \"email\":\"john@example.com\", \"age\":30}'`"
   ]
  },
  {
   "cell_type": "code",
   "execution_count": null,
   "metadata": {},
   "outputs": [],
   "source": [
    "from fastapi import FastAPI\n",
    "from pydantic import BaseModel\n",
    "from typing import Optional\n",
    "\n",
    "app = FastAPI()\n",
    "\n",
    "class UserCreate(BaseModel):\n",
    "    id: int\n",
    "    name: str\n",
    "    email: str\n",
    "    age: Optional[int] = None\n",
    "\n",
    "class UserResponse(BaseModel):\n",
    "    id: int\n",
    "    name: str\n",
    "    email: str\n",
    "    age: Optional[int] = None\n",
    "    is_active:  bool\n",
    "\n",
    "@app.post(\"/users/\", response_model=UserResponse)\n",
    "async def create_user(user:UserCreate): #validate incoming data\n",
    "    user_response = UserResponse(       #validate outgoing data\n",
    "        id= user.id,\n",
    "        name=user.name,\n",
    "        email=user.email,\n",
    "        age=user.age,\n",
    "        is_active=True\n",
    "    )\n",
    "    return user_response\n"
   ]
  },
  {
   "cell_type": "markdown",
   "metadata": {},
   "source": [
    "### Dependency Injection\n",
    "- Inject dependencies (database connections, configuration settings, other shared resources) into your functions or classes.\n",
    "- Separate concerns between the logic of the endpoint and the more generic logic for the pagination parameters. \n",
    "- Ideal for utility logic to retrieve or validate data, make security checks, or call external logic that will be needed several times across the application."
   ]
  },
  {
   "cell_type": "markdown",
   "metadata": {},
   "source": [
    "- Notes following \"Building Data Science Applications with FastAPI\" by François Voron Chapter 2: Python specificities -> asyncio"
   ]
  },
  {
   "cell_type": "code",
   "execution_count": null,
   "metadata": {},
   "outputs": [],
   "source": [
    "from fastapi import Depends, FastAPI\n",
    "\n",
    "app = FastAPI()\n",
    "\n",
    "async def pagination(skip:int=0,limit:int=10)->tuple[int,int]:\n",
    "    return (skip,limit)\n",
    "\n",
    "@app.get(\"/items\")\n",
    "async def list_items(p:tuple[int,int]=Depends(pagination)):\n",
    "    skip,limit = p\n",
    "    return {\"skip\":skip, \"limit\":limit}\n",
    "\n",
    "@app.get(\"/things\")\n",
    "async def list_things(p:tuple[int,int]=Depends(pagination)):\n",
    "    skip,limit = p\n",
    "    return {\"skip\":skip, \"limit\":limit}"
   ]
  },
  {
   "cell_type": "markdown",
   "metadata": {},
   "source": [
    "- FastAPI limitation: `Depends` function is not able to forward the type of the dependency function, so we have to do this manually above.\n",
    "- Raising a 404 error:"
   ]
  },
  {
   "cell_type": "code",
   "execution_count": null,
   "metadata": {},
   "outputs": [],
   "source": [
    "from fastapi import Depends, FastAPI, HTTPException, status\n",
    "from pydantic import BaseModel\n",
    "\n",
    "\n",
    "class Post(BaseModel):\n",
    "    id: int\n",
    "    title: str\n",
    "    content: str\n",
    "\n",
    "\n",
    "class PostUpdate(BaseModel):\n",
    "    title: str | None\n",
    "    content: str | None\n",
    "\n",
    "\n",
    "class DummyDatabase:\n",
    "    posts: dict[int, Post] = {}\n",
    "\n",
    "\n",
    "db = DummyDatabase()\n",
    "db.posts = {\n",
    "    1: Post(id=1, title=\"Post 1\", content=\"Content 1\"),\n",
    "    2: Post(id=2, title=\"Post 2\", content=\"Content 2\"),\n",
    "    3: Post(id=3, title=\"Post 3\", content=\"Content 3\"),\n",
    "}\n",
    "\n",
    "\n",
    "app = FastAPI()\n",
    "\n",
    "\n",
    "async def get_post_or_404(id: int) -> Post:\n",
    "    try:\n",
    "        return db.posts[id]\n",
    "    except KeyError:\n",
    "        raise HTTPException(status_code=status.HTTP_404_NOT_FOUND)\n",
    "\n",
    "\n",
    "@app.get(\"/posts/{id}\")\n",
    "async def get(post: Post = Depends(get_post_or_404)):\n",
    "    return post\n",
    "\n",
    "\n",
    "@app.patch(\"/posts/{id}\")\n",
    "async def update(post_update: PostUpdate, post: Post = Depends(get_post_or_404)):\n",
    "    updated_post = post.copy(update=post_update.dict())\n",
    "    db.posts[post.id] = updated_post\n",
    "    return updated_post\n",
    "\n",
    "\n",
    "@app.delete(\"/posts/{id}\", status_code=status.HTTP_204_NO_CONTENT)\n",
    "async def delete(post: Post = Depends(get_post_or_404)):\n",
    "    db.posts.pop(post.id)"
   ]
  },
  {
   "cell_type": "markdown",
   "metadata": {},
   "source": [
    "#### Creating and using a parametrized dependency with a class\n",
    "- Suppose we wanted to dynamically cap the limit value in the pagination example...-> would need to do this with a class!"
   ]
  },
  {
   "cell_type": "code",
   "execution_count": null,
   "metadata": {},
   "outputs": [],
   "source": [
    "from fastapi import Depends, FastAPI, Query\n",
    "\n",
    "app = FastAPI()\n",
    "\n",
    "class Pagination:\n",
    "    def __init__(self, maximum_limit:int = 100):\n",
    "        self.maximum_limit = maximum_limit\n",
    "    async def __call__(\n",
    "            self,\n",
    "            skip: int = Query(0, ge=0),\n",
    "            limit: int = Query(10,ge=0)\n",
    "    ) -> tuple[int,int]:\n",
    "        capped_limit = min(self.maximum_limit, limit)\n",
    "        return (skip, capped_limit)\n",
    "# hardcoded below, but could come from config file or env variable\n",
    "pagination = Pagination(maximum_limit=50)\n",
    "\n",
    "@app.get(\"/items\")\n",
    "async def list_items(p: tuple[int, int] = Depends(pagination)):\n",
    "    skip, limit = p\n",
    "    return {\"skip\": skip, \"limit\": limit}\n",
    "\n",
    "\n",
    "@app.get(\"/things\")\n",
    "async def list_things(p: tuple[int, int] = Depends(pagination)):\n",
    "    skip, limit = p\n",
    "    return {\"skip\": skip, \"limit\": limit}"
   ]
  },
  {
   "cell_type": "markdown",
   "metadata": {},
   "source": [
    "- Note: n FastAPI, Query is used to define and validate query parameters for your API endpoints. Query parameters are the key-value pairs that appear after the ? in a URL. They are typically used to filter, sort, or paginate data."
   ]
  },
  {
   "cell_type": "markdown",
   "metadata": {},
   "source": [
    "- `Depends` simply expects a callable: in can be `__call__` or another function as below.  Note that the pattern below could be used to apply different preprocessing steps, depending on the data, in the ML context:"
   ]
  },
  {
   "cell_type": "code",
   "execution_count": null,
   "metadata": {},
   "outputs": [],
   "source": [
    "from fastapi import Depends, FastAPI, Query\n",
    "\n",
    "app = FastAPI()\n",
    "\n",
    "\n",
    "class Pagination:\n",
    "    def __init__(self, maximum_limit: int = 100):\n",
    "        self.maximum_limit = maximum_limit\n",
    "\n",
    "    async def skip_limit(\n",
    "        self,\n",
    "        skip: int = Query(0, ge=0),\n",
    "        limit: int = Query(10, ge=0),\n",
    "    ) -> tuple[int, int]:\n",
    "        capped_limit = min(self.maximum_limit, limit)\n",
    "        return (skip, capped_limit)\n",
    "\n",
    "    async def page_size(\n",
    "        self,\n",
    "        page: int = Query(1, ge=1),\n",
    "        size: int = Query(10, ge=0),\n",
    "    ) -> tuple[int, int]:\n",
    "        capped_size = min(self.maximum_limit, size)\n",
    "        return (page, capped_size)\n",
    "\n",
    "\n",
    "pagination = Pagination(maximum_limit=50)\n",
    "\n",
    "\n",
    "@app.get(\"/items\")\n",
    "async def list_items(p: tuple[int, int] = Depends(pagination.skip_limit)):\n",
    "    skip, limit = p\n",
    "    return {\"skip\": skip, \"limit\": limit}\n",
    "\n",
    "\n",
    "@app.get(\"/things\")\n",
    "async def list_things(p: tuple[int, int] = Depends(pagination.page_size)):\n",
    "    page, size = p\n",
    "    return {\"page\": page, \"size\": size}"
   ]
  },
  {
   "cell_type": "markdown",
   "metadata": {},
   "source": [
    "- Using dependency injection to manage db connection, ensuring that each request gets a fresh connection and that connections are properly closed after use:"
   ]
  },
  {
   "cell_type": "code",
   "execution_count": null,
   "metadata": {},
   "outputs": [],
   "source": [
    "from fastapi import FastAPI, Depends\n",
    "from sqlalchemy.orm import Session\n",
    "from sqlalchemy import create_engine, Column, Integer, String\n",
    "from sqlalchemy.ext.declarative import declarative_base\n",
    "from sqlalchemy.orm import sessionmaker\n",
    "\n",
    "DATABASE_URL = \"sqlite:///./test.db\"\n",
    "engine = create_engine(DATABASE_URL)\n",
    "SessionLocal = sessionmaker(autocommit=False, autoflush=False, bind=engine)\n",
    "Base = declarative_base()\n",
    "\n",
    "# Define a User model\n",
    "class User(Base):\n",
    "    __tablename__ = \"users\"\n",
    "    id = Column(Integer, primary_key=True, index=True)\n",
    "    name = Column(String, index=True)\n",
    "    email = Column(String, unique=True, index=True)\n",
    "\n",
    "app = FastAPI()\n",
    "\n",
    "def get_db():\n",
    "    db = SessionLocal()\n",
    "    try:\n",
    "        yield db\n",
    "    finally:\n",
    "        db.close()\n",
    "# Endpoint to create a new user\n",
    "@app.post(\"/users/\")\n",
    "async def create_user(name: str, email: str, db: Session = Depends(get_db)):\n",
    "    user = User(name=name, email=email)\n",
    "    db.add(user)\n",
    "    db.commit()\n",
    "    db.refresh(user)\n",
    "    return user\n",
    "\n",
    "@app.get(\"/users/\")\n",
    "async def read_users(db: Session=Depends(get_db)):\n",
    "    users = db.query(User).all()\n",
    "    return users\n",
    "\n",
    "# Run the application\n",
    "if __name__ == \"__main__\":\n",
    "    import uvicorn\n",
    "    uvicorn.run(app, host=\"127.0.0.1\", port=8000)\n"
   ]
  },
  {
   "cell_type": "markdown",
   "metadata": {},
   "source": [
    "- An example in LLM context:"
   ]
  },
  {
   "cell_type": "code",
   "execution_count": null,
   "metadata": {},
   "outputs": [],
   "source": [
    "from fastapi import FastAPI, Depends\n",
    "from pydantic import BaseModel\n",
    "from transformers import AutoModelForSequenceClassification, AutoTokenizer\n",
    "import torch\n",
    "\n",
    "app = FastAPI()\n",
    "\n",
    "class LLM:\n",
    "    def __init__(self, model_name: str = \"distilbert-base-uncased-finetuned-sst-2-english\"):\n",
    "        # Load the pre-trained model and tokenizer from Hugging Face\n",
    "        self.tokenizer = AutoTokenizer.from_pretrained(model_name)\n",
    "        self.model = AutoModelForSequenceClassification.from_pretrained(model_name)\n",
    "        self.model.to(\"cuda\" if torch.cuda.is_available() else \"cpu\")\n",
    "\n",
    "    def predict(self, text: str, preprocess_steps: list):\n",
    "        # Preprocess the text\n",
    "        text = self.text_processor.preprocess(text, preprocess_steps)\n",
    "        # Tokenize the input text\n",
    "        inputs = self.tokenizer(text, return_tensors=\"pt\")\n",
    "        inputs = {k: v.to(\"cuda\" if torch.cuda.is_available() else \"cpu\") for k, v in inputs.items()}\n",
    "        # Perform prediction using the model\n",
    "        with torch.no_grad():\n",
    "            outputs = self.model(**inputs)\n",
    "        # Get the predicted class\n",
    "        predictions = torch.nn.functional.softmax(outputs.logits, dim=-1)\n",
    "        predicted_class = torch.argmax(predictions, dim=1).item()\n",
    "        return predicted_class\n",
    "\n",
    "# Create a global LLM instance\n",
    "llm_instance = LLM()\n",
    "\n",
    "# Dependency to get the global LLM instance\n",
    "def get_llm():\n",
    "    return llm_instance\n",
    "\n",
    "# Request model for prediction\n",
    "class PredictionRequest(BaseModel):\n",
    "    text: str\n",
    "\n",
    "# Response model for prediction\n",
    "class PredictionResponse(BaseModel):\n",
    "    prediction: int\n",
    "\n",
    "# Use the LLM dependency in an endpoint\n",
    "@app.post(\"/predict/\", response_model=PredictionResponse)\n",
    "async def predict(request: PredictionRequest, llm: LLM = Depends(get_llm)):\n",
    "    prediction = llm.predict(request.text)\n",
    "    return {\"prediction\": prediction}\n",
    "\n",
    "# Run the application\n",
    "if __name__ == \"__main__\":\n",
    "    import uvicorn\n",
    "    uvicorn.run(app, host=\"127.0.0.1\", port=8000)"
   ]
  },
  {
   "cell_type": "markdown",
   "metadata": {},
   "source": [
    "- Run as follows: `curl -X POST \"http://127.0.0.1:8000/predict/\" -H \"Content-Type: application/json\" -d '{\"text\": \"I love FastAPI!\"}'`\n",
    "- Will return something like the following: `{\n",
    "    \"prediction\": 1\n",
    "}`"
   ]
  },
  {
   "cell_type": "code",
   "execution_count": null,
   "metadata": {},
   "outputs": [],
   "source": []
  }
 ],
 "metadata": {
  "kernelspec": {
   "display_name": "mintonano",
   "language": "python",
   "name": "python3"
  },
  "language_info": {
   "codemirror_mode": {
    "name": "ipython",
    "version": 3
   },
   "file_extension": ".py",
   "mimetype": "text/x-python",
   "name": "python",
   "nbconvert_exporter": "python",
   "pygments_lexer": "ipython3",
   "version": "3.11.9"
  }
 },
 "nbformat": 4,
 "nbformat_minor": 2
}
