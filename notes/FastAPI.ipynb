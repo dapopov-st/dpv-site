{
 "cells": [
  {
   "cell_type": "markdown",
   "metadata": {},
   "source": [
    "---\n",
    "title: FastAPI notes\n",
    "description: Notes on FastAPI\n",
    "date: 2024-09\n",
    "categories: [Programming]\n",
    "---"
   ]
  },
  {
   "cell_type": "markdown",
   "metadata": {},
   "source": [
    "- Build APIs based on standard Python type hints\n",
    "- Automatically generate interactive documentation\n",
    "- Fast to code, fewer bugs"
   ]
  },
  {
   "cell_type": "code",
   "execution_count": 3,
   "metadata": {},
   "outputs": [],
   "source": [
    "#! pip install fastapi\n",
    "#! pip install \"uvicorn[standard]\""
   ]
  },
  {
   "cell_type": "markdown",
   "metadata": {},
   "source": [
    "- If the following contents are in main.py, can run via `uvicorn main:app --reload`.  \n",
    "    - `main` refers to main.py and app refers to the object inside main.py.\n",
    "    - `--reload` reloads the page upon changes, to be used during dev, not prod.\n",
    "- Can see documentation conforming to OpenAPI standard in `http://127.0.0.1:8000/docs`, from which you can use the endpoints!\n",
    "- `http://127.0.0.1:8000/redoc` returns documentation in alternative format.\n",
    "- Use `async def` to make the functions non-blocking, enabling other tasks to run concurrently. Useful when function performs I/O-bound operations, such as database queries, file I/O, or network requests, and when need to handle a large number of concurrent requests efficiently.\n",
    "- Type hints will be validated with Pydantic, so if use a non-int in `/items/{item_id}`, will get an error.\n",
    "- Order matters: If `read_user_current` is placed *after* `read_user`, will get an error since FastAPI will read functions top-down and try to validate input to be an integer.\n",
    "- Use `Enums` if path parameter must come from a certain list of values.  If improper parameter is passed, FastAPI will list available values!\n",
    "- To have paths be read correctly, use `:path` path converter, allowing the parameter to capture the entire path, including slashes.\n",
    "- `read_animal` without additional parameters will read off animals 0-10.  With additional parameters, can specify which ones we want via *query parameters*, as in http://127.0.0.1:8000/animals/?skip=0&limit=2.  Here, ? denotes start of query parameters and & separates them.  Can also pass optional parameter as http://127.0.0.1:8000/animals/?skip=0&limit=2&optional_param=3, just make sure to specify it as typing.Optional.\n",
    "- Can pass and use optional parameters as in `read_user_item`.\n",
    "- Request body is data sent by client to the API and response body is data sent from API to client.  Use Pydantic to specify request body with POST request type.\n",
    "    - To send a post request, could test it out in /docs or with curl -X POST \"http://127.0.0.1:8000/books/\" -H \"Content-Type: application/json\" -d '{\n",
    "    \"name\": \"The Great Gatsby\",\n",
    "    \"author\": \"F. Scott Fitzgerald\",\n",
    "    \"description\": \"A novel set in the 1920s\",\n",
    "    \"price\": 10.99\n",
    "}'\n",
    "    - Then can go to /books endpoint to see the books printed.\n"
   ]
  },
  {
   "cell_type": "code",
   "execution_count": 6,
   "metadata": {},
   "outputs": [],
   "source": [
    "from fastapi import FastAPI\n",
    "from enum import Enum\n",
    "import typing as t\n",
    "from pydantic import BaseModel\n",
    "\n",
    "app = FastAPI()\n",
    "\n",
    "@app.get(\"/\") #route/endpoint\n",
    "def home_page():\n",
    "    return {\"message\":\"Hello World!\"}\n",
    "\n",
    "@app.get(\"/items/{item_id}\") #item_id is the path parameter\n",
    "async def read_item(item_id: int):\n",
    "    return {\"item_id\":item_id}\n",
    "\n",
    "@app.get(\"/users/me\") # will not work if placed after, must be before to be valid\n",
    "async def read_user_current():\n",
    "    return {\"user_id\":\"Current user\"}\n",
    "\n",
    "@app.get(\"/users/{user_id}\") \n",
    "async def read_user(user_id: int):\n",
    "    return {\"user_id\":user_id}\n",
    "\n",
    "class ModelName(str,Enum):\n",
    "    ALEXNET = 'ALEXNET'\n",
    "    RESNET = 'RESNET'\n",
    "    LENET = 'LENET'\n",
    "\n",
    "@app.get(\"/models/{model_name}\")\n",
    "async def get_model(model_name: ModelName):\n",
    "    if model_name == ModelName.ALEXNET:\n",
    "        return {'model_name':model_name}\n",
    "    elif model_name.value == \"LENET\":\n",
    "        return {'model_name': model_name}\n",
    "    else:\n",
    "        return {'model_name':f\"You have selected {model_name.value}\"}\n",
    "    \n",
    "@app.get(\"files/{file_path:path}\")\n",
    "async def read_file(file_path:str):\n",
    "    return {\"file_path\":file_path}\n",
    "\n",
    "animal_db = [{\"animal_name\":'cat'},{\"animal_name\":'llama'},{\"animal_name\":'alpaca'}]\n",
    "\n",
    "@app.get(\"/animals/\")\n",
    "async def read_animal(skip: int=0, limit: int=10, optional_param: t.Optional[int]=None):\n",
    "    return {\"animals\": animal_db[skip:skip+limit], \"optional_parameter\":optional_param}\n",
    "\n",
    "@app.get(\"/users/{user_id}/items/{item_id}\")\n",
    "async def read_user_item(\n",
    "    user_id: int, item_id: int, q: t.Optional[str]=None, short:bool=False\n",
    "):\n",
    "    item = {\"item_id\":item_id, \"owner_id\":user_id}\n",
    "    if q:\n",
    "        item.update({\"q\":q})\n",
    "    if not short:\n",
    "        item.update({'description':'great item with long description'})\n",
    "    return item\n",
    "\n",
    "books_db = []\n",
    "class Book(BaseModel):\n",
    "    name:str\n",
    "    author:str\n",
    "    description:t.Optional[str]\n",
    "    price:float\n",
    "\n",
    "@app.post(\"/books/\")\n",
    "async def create_item(book:Book):\n",
    "    books_db.append(book)\n",
    "    return book \n",
    "@app.get(\"/books/\")\n",
    "async def get_books():\n",
    "    return books_db"
   ]
  },
  {
   "cell_type": "code",
   "execution_count": null,
   "metadata": {},
   "outputs": [],
   "source": []
  }
 ],
 "metadata": {
  "kernelspec": {
   "display_name": "mintonano",
   "language": "python",
   "name": "python3"
  },
  "language_info": {
   "codemirror_mode": {
    "name": "ipython",
    "version": 3
   },
   "file_extension": ".py",
   "mimetype": "text/x-python",
   "name": "python",
   "nbconvert_exporter": "python",
   "pygments_lexer": "ipython3",
   "version": "3.11.9"
  }
 },
 "nbformat": 4,
 "nbformat_minor": 2
}
