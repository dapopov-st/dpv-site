{
 "cells": [
  {
   "cell_type": "markdown",
   "metadata": {},
   "source": [
    "---\n",
    "title: Linux notes\n",
    "description: Some Linux learnings\n",
    "date: 2024-09\n",
    "categories: [Linux]\n",
    "---"
   ]
  },
  {
   "cell_type": "markdown",
   "metadata": {},
   "source": [
    "- so which nvcc yields\n",
    "/usr/bin/nvcc\n",
    "while importing trl got\n",
    "\n",
    "\t\"name\": \"RuntimeError\",\n",
    "\t\"message\": \"Failed to import trl.trainer.sft_trainer because of the following error (look up to see its traceback):\n",
    "\n",
    "\n",
    "FileNotFoundError: [Errno 2] No such file or directory: '/usr/local/cuda/bin/nvcc'\n",
    "- Fixed by making a symbolic link:\n",
    "sudo mkdir -p /usr/local/cuda/bin\n",
    "/usr/local/bin$ sudo ln -s /usr/bin/nvcc /usr/local/cuda/bin/nvcc"
   ]
  },
  {
   "cell_type": "code",
   "execution_count": null,
   "metadata": {},
   "outputs": [],
   "source": []
  },
  {
   "cell_type": "markdown",
   "metadata": {},
   "source": [
    "- All of the sudden lost GPU, could not figure it out, when tried to purge, saw:\n",
    "sudo apt-get purge nvidia*\n",
    "sudo apt-get autoremove\n",
    "sudo apt-get autoclean\n",
    "[sudo] password for mainuser: \n",
    "E: dpkg was interrupted, you must manually run 'sudo dpkg --configure -a' to correct the problem. \n",
    "E: dpkg was interrupted, you must manually run 'sudo dpkg --configure -a' to correct the problem. \n",
    "Reading package lists... Done\n",
    "Building dependency tree... Done\n",
    "Reading state information... Done\n",
    "*When I reran the recommended command, the drivers were alive and well!*"
   ]
  },
  {
   "cell_type": "markdown",
   "metadata": {},
   "source": [
    "llll"
   ]
  }
 ],
 "metadata": {
  "kernelspec": {
   "display_name": "mintonano",
   "language": "python",
   "name": "python3"
  },
  "language_info": {
   "codemirror_mode": {
    "name": "ipython",
    "version": 3
   },
   "file_extension": ".py",
   "mimetype": "text/x-python",
   "name": "python",
   "nbconvert_exporter": "python",
   "pygments_lexer": "ipython3",
   "version": "3.11.9"
  }
 },
 "nbformat": 4,
 "nbformat_minor": 2
}
