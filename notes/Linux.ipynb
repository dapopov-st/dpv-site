{
 "cells": [
  {
   "cell_type": "markdown",
   "metadata": {},
   "source": [
    "---\n",
    "title: Linux notes\n",
    "description: Some Linux learnings\n",
    "date: 2024-09\n",
    "categories: [Linux]\n",
    "---"
   ]
  },
  {
   "cell_type": "markdown",
   "metadata": {},
   "source": [
    "so which nvcc yields\n",
    "/usr/bin/nvcc\n",
    "while importing trl got\n",
    "\n",
    "\t\"name\": \"RuntimeError\",\n",
    "\t\"message\": \"Failed to import trl.trainer.sft_trainer because of the following error (look up to see its traceback):\n",
    "\n",
    "\n",
    "FileNotFoundError: [Errno 2] No such file or directory: '/usr/local/cuda/bin/nvcc'\n",
    "- Fixed by making a symbolic link:\n",
    "sudo mkdir -p /usr/local/cuda/bin\n",
    "/usr/local/bin$ sudo ln -s /usr/bin/nvcc /usr/local/cuda/bin/nvcc"
   ]
  },
  {
   "cell_type": "markdown",
   "metadata": {},
   "source": []
  }
 ],
 "metadata": {
  "kernelspec": {
   "display_name": "mintonano",
   "language": "python",
   "name": "python3"
  },
  "language_info": {
   "name": "python",
   "version": "3.11.9"
  }
 },
 "nbformat": 4,
 "nbformat_minor": 2
}
