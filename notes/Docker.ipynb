{
 "cells": [
  {
   "cell_type": "markdown",
   "metadata": {},
   "source": [
    "---\n",
    "title: \"Docker notes\"\n",
    "description: Notes on FastAPI\n",
    "date: 2024-08\n",
    "categories: [Programming]\n",
    "---"
   ]
  },
  {
   "cell_type": "markdown",
   "metadata": {},
   "source": [
    "- Containers are isolated environments using the kernel of your host OS\n",
    "    - They are running instances of images which are \"blueprints\" or snapshots for containers\n",
    "    - They are build in layers, which can be used across multiple images\n",
    "- Images ~ Classes: Specified via Dockerfile\n",
    "- Containers ~ Objects: instantiations of images\n",
    "- Dockerfile: Text document containing commands user would call on the command line to assemble an image\n",
    "\n"
   ]
  }
 ],
 "metadata": {
  "language_info": {
   "name": "python"
  }
 },
 "nbformat": 4,
 "nbformat_minor": 2
}
